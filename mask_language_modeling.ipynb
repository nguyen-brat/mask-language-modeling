{
  "cells": [
    {
      "cell_type": "markdown",
      "metadata": {
        "colab_type": "text",
        "id": "view-in-github"
      },
      "source": [
        "<a href=\"https://colab.research.google.com/github/nguyen-brat/mask-language-modeling/blob/main/mask_language_modeling.ipynb\" target=\"_parent\"><img src=\"https://colab.research.google.com/assets/colab-badge.svg\" alt=\"Open In Colab\"/></a>"
      ]
    },
    {
      "cell_type": "markdown",
      "metadata": {
        "id": "KkYK7McTANjD"
      },
      "source": [
        "#IMPORT"
      ]
    },
    {
      "cell_type": "code",
      "execution_count": 1,
      "metadata": {
        "id": "gQ7pcZ1t07pz"
      },
      "outputs": [],
      "source": [
        "import numpy as np\n",
        "import tensorflow as tf\n",
        "import matplotlib.pyplot as plt\n",
        "from tensorflow import keras\n",
        "import os\n",
        "import pandas as pd\n",
        "import re\n",
        "from sklearn.model_selection import train_test_split\n",
        "from tqdm import tqdm"
      ]
    },
    {
      "cell_type": "code",
      "execution_count": 2,
      "metadata": {
        "id": "8jlnMhqa_mk6"
      },
      "outputs": [],
      "source": [
        "mask_percent = 0.15 # percent data replace with mask\n",
        "train_size = 0.8\n",
        "valid_size = 0.1\n",
        "test_size = 0.1\n",
        "max_len = 256 # max len of input feed to neuron network\n",
        "max_dim = 128 # world embedding dimention\n",
        "batch_size = 32\n",
        "num_epochs = 4\n",
        "n_blocks = 2 # n transformer block\n",
        "lr = 0.01 # learning rate\n",
        "n_heads = 8 # n_head in transformer block\n",
        "drop_rate = 0.1 # drop rate in transformer block\n",
        "freq_word = 30 # remove all world below freq_word\n",
        "d_dim = 256 # dimention in FFN layers"
      ]
    },
    {
      "cell_type": "markdown",
      "metadata": {
        "id": "-k4HkeZpNwbS"
      },
      "source": [
        "# PREPROCESSING"
      ]
    },
    {
      "cell_type": "code",
      "execution_count": 3,
      "metadata": {
        "colab": {
          "base_uri": "https://localhost:8080/"
        },
        "id": "ILaCQvDox0us",
        "outputId": "4071c766-8d29-467d-db9f-a9cf1a87f872"
      },
      "outputs": [
        {
          "name": "stdout",
          "output_type": "stream",
          "text": [
            "Drive already mounted at /content/drive/; to attempt to forcibly remount, call drive.mount(\"/content/drive/\", force_remount=True).\n"
          ]
        }
      ],
      "source": [
        "from google.colab import drive\n",
        "drive.mount('/content/drive/')"
      ]
    },
    {
      "cell_type": "code",
      "execution_count": 4,
      "metadata": {
        "id": "KjcNeNCv1hi6"
      },
      "outputs": [],
      "source": [
        "#!unzip /content/drive/MyDrive/book_text.zip -d /content"
      ]
    },
    {
      "cell_type": "code",
      "execution_count": 5,
      "metadata": {
        "id": "kRpzs-k21h5J"
      },
      "outputs": [],
      "source": [
        "list_data = []\n",
        "with open('/content/booksummaries.txt', 'r') as f:\n",
        "  data = f.readlines()\n",
        "  for line in data:\n",
        "    list_data.append(line.split('\\t')[6])"
      ]
    },
    {
      "cell_type": "code",
      "execution_count": 6,
      "metadata": {
        "colab": {
          "base_uri": "https://localhost:8080/",
          "height": 123
        },
        "id": "wpDO-DuEW2rN",
        "outputId": "1f9bb579-e1ca-4e08-b716-03d49c4b46f8"
      },
      "outputs": [
        {
          "data": {
            "application/vnd.google.colaboratory.intrinsic+json": {
              "type": "string"
            },
            "text/plain": [
              "' Old Major, the old boar on the Manor Farm, calls the animals on the farm for a meeting, where he compares the humans to parasites and teaches the animals a revolutionary song, \\'Beasts of England\\'. When Major dies, two young pigs, Snowball and Napoleon, assume command and turn his dream into a philosophy. The animals revolt and drive the drunken and irresponsible Mr Jones from the farm, renaming it \"Animal Farm\". They adopt Seven Commandments of Animal-ism, the most important of which is, \"All animals are equal\". Snowball attempts to teach the animals reading and writing; food is plentiful, and the farm runs smoothly. The pigs elevate themselves to positions of leadership and set aside special food items, ostensibly for their personal health. Napoleon takes the pups from the farm dogs and trains them privately. Napoleon and Snowball struggle for leadership. When Snowball announces his plans to build a windmill, Napoleon has his dogs chase Snowball away and declares himself leader. Napoleon enacts changes to the governance structure of the farm, replacing meetings with a committee of pigs, who will run the farm. Using a young pig named Squealer as a \"mouthpiece\", Napoleon claims credit for the windmill idea. The animals work harder with the promise of easier lives with the windmill. After a violent storm, the animals find the windmill annihilated. Napoleon and Squealer convince the animals that Snowball destroyed it, although the scorn of the neighbouring farmers suggests that its walls were too thin. Once Snowball becomes a scapegoat, Napoleon begins purging the farm with his dogs, killing animals he accuses of consorting with his old rival. He and the pigs abuse their power, imposing more control while reserving privileges for themselves and rewriting history, villainising Snowball and glorifying Napoleon. Squealer justifies every statement Napoleon makes, even the pigs\\' alteration of the Seven Commandments of Animalism to benefit themselves. \\'Beasts of England\\' is replaced by an anthem glorifying Napoleon, who appears to be adopting the lifestyle of a man. The animals remain convinced that they are better off than they were when under Mr Jones. Squealer abuses the animals\\' poor memories and invents numbers to show their improvement. Mr Frederick, one of the neighbouring farmers, attacks the farm, using blasting powder to blow up the restored windmill. Though the animals win the battle, they do so at great cost, as many, including Boxer the workhorse, are wounded. Despite his injuries, Boxer continues working harder and harder, until he collapses while working on the windmill. Napoleon sends for a van to take Boxer to the veterinary surgeon\\'s, explaining that better care can be given there. Benjamin, the cynical donkey, who \"could read as well as any pig\", notices that the van belongs to a knacker, and attempts to mount a rescue; but the animals\\' attempts are futile. Squealer reports that the van was purchased by the hospital and the writing from the previous owner had not been repainted. He recounts a tale of Boxer\\'s death in the hands of the best medical care. Years pass, and the pigs learn to walk upright, carry whips and wear clothes. The Seven Commandments are reduced to a single phrase: \"All animals are equal, but some animals are more equal than others\". Napoleon holds a dinner party for the pigs and the humans of the area, who congratulate Napoleon on having the hardest-working but least fed animals in the country. Napoleon announces an alliance with the humans, against the labouring classes of both \"worlds\". He abolishes practices and traditions related to the Revolution, and changes the name of the farm to \"The Manor Farm\". The animals, overhearing the conversation, notice that the faces of the pigs have begun changing. During a poker match, an argument breaks out between Napoleon and Mr Pilkington, and the animals realise that the faces of the pigs look like the faces of humans, and no one can tell the difference between them. The pigs Snowball, Napoleon, and Squealer adapt Old Major\\'s ideas into an actual philosophy, which they formally name Animalism. Soon after, Napoleon and Squealer indulge in the vices of humans (drinking alcohol, sleeping in beds, trading). Squealer is employed to alter the Seven Commandments to account for this humanisation, an allusion to the Soviet government\\'s revising of history in order to exercise control of the people\\'s beliefs about themselves and their society. The original commandments are: # Whatever goes upon two legs is an enemy. # Whatever goes upon four legs, or has wings, is a friend. # No animal shall wear clothes. # No animal shall sleep in a bed. # No animal shall drink alcohol. # No animal shall kill any other animal. # All animals are equal. Later, Napoleon and his pigs secretly revise some commandments to clear them of accusations of law-breaking (such as \"No animal shall drink alcohol\" having \"to excess\" appended to it and \"No animal shall sleep in a bed\" with \"with sheets\" added to it). The changed commandments are as follows, with the changes bolded: * 4 No animal shall sleep in a bed with sheets. * 5 No animal shall drink alcohol to excess. * 6 No animal shall kill any other animal without cause. Eventually these are replaced with the maxims, \"All animals are equal, but some animals are more equal than others\", and \"Four legs good, two legs better!\" as the pigs become more human. This is an ironic twist to the original purpose of the Seven Commandments, which were supposed to keep order within Animal Farm by uniting the animals together against the humans, and prevent animals from following the humans\\' evil habits. Through the revision of the commandments, Orwell demonstrates how simply political dogma can be turned into malleable propaganda.\\n'"
            ]
          },
          "execution_count": 6,
          "metadata": {},
          "output_type": "execute_result"
        }
      ],
      "source": [
        "list_data[0]"
      ]
    },
    {
      "cell_type": "code",
      "execution_count": 7,
      "metadata": {
        "id": "keJw5sf514cR"
      },
      "outputs": [],
      "source": [
        "for i, line in enumerate(list_data):\n",
        "  list_data[i] = list_data[i][:-2].lower()\n",
        "  list_data[i] = re.sub('[^a-zA-Z0-9\\s]', '' ,list_data[i])"
      ]
    },
    {
      "cell_type": "code",
      "execution_count": 8,
      "metadata": {
        "colab": {
          "base_uri": "https://localhost:8080/",
          "height": 123
        },
        "id": "kJd4HNvu32Fg",
        "outputId": "c3ba6901-378b-4cd9-86cc-a2c3aad60477"
      },
      "outputs": [
        {
          "data": {
            "application/vnd.google.colaboratory.intrinsic+json": {
              "type": "string"
            },
            "text/plain": [
              "' old major the old boar on the manor farm calls the animals on the farm for a meeting where he compares the humans to parasites and teaches the animals a revolutionary song beasts of england when major dies two young pigs snowball and napoleon assume command and turn his dream into a philosophy the animals revolt and drive the drunken and irresponsible mr jones from the farm renaming it animal farm they adopt seven commandments of animalism the most important of which is all animals are equal snowball attempts to teach the animals reading and writing food is plentiful and the farm runs smoothly the pigs elevate themselves to positions of leadership and set aside special food items ostensibly for their personal health napoleon takes the pups from the farm dogs and trains them privately napoleon and snowball struggle for leadership when snowball announces his plans to build a windmill napoleon has his dogs chase snowball away and declares himself leader napoleon enacts changes to the governance structure of the farm replacing meetings with a committee of pigs who will run the farm using a young pig named squealer as a mouthpiece napoleon claims credit for the windmill idea the animals work harder with the promise of easier lives with the windmill after a violent storm the animals find the windmill annihilated napoleon and squealer convince the animals that snowball destroyed it although the scorn of the neighbouring farmers suggests that its walls were too thin once snowball becomes a scapegoat napoleon begins purging the farm with his dogs killing animals he accuses of consorting with his old rival he and the pigs abuse their power imposing more control while reserving privileges for themselves and rewriting history villainising snowball and glorifying napoleon squealer justifies every statement napoleon makes even the pigs alteration of the seven commandments of animalism to benefit themselves beasts of england is replaced by an anthem glorifying napoleon who appears to be adopting the lifestyle of a man the animals remain convinced that they are better off than they were when under mr jones squealer abuses the animals poor memories and invents numbers to show their improvement mr frederick one of the neighbouring farmers attacks the farm using blasting powder to blow up the restored windmill though the animals win the battle they do so at great cost as many including boxer the workhorse are wounded despite his injuries boxer continues working harder and harder until he collapses while working on the windmill napoleon sends for a van to take boxer to the veterinary surgeons explaining that better care can be given there benjamin the cynical donkey who could read as well as any pig notices that the van belongs to a knacker and attempts to mount a rescue but the animals attempts are futile squealer reports that the van was purchased by the hospital and the writing from the previous owner had not been repainted he recounts a tale of boxers death in the hands of the best medical care years pass and the pigs learn to walk upright carry whips and wear clothes the seven commandments are reduced to a single phrase all animals are equal but some animals are more equal than others napoleon holds a dinner party for the pigs and the humans of the area who congratulate napoleon on having the hardestworking but least fed animals in the country napoleon announces an alliance with the humans against the labouring classes of both worlds he abolishes practices and traditions related to the revolution and changes the name of the farm to the manor farm the animals overhearing the conversation notice that the faces of the pigs have begun changing during a poker match an argument breaks out between napoleon and mr pilkington and the animals realise that the faces of the pigs look like the faces of humans and no one can tell the difference between them the pigs snowball napoleon and squealer adapt old majors ideas into an actual philosophy which they formally name animalism soon after napoleon and squealer indulge in the vices of humans drinking alcohol sleeping in beds trading squealer is employed to alter the seven commandments to account for this humanisation an allusion to the soviet governments revising of history in order to exercise control of the peoples beliefs about themselves and their society the original commandments are  whatever goes upon two legs is an enemy  whatever goes upon four legs or has wings is a friend  no animal shall wear clothes  no animal shall sleep in a bed  no animal shall drink alcohol  no animal shall kill any other animal  all animals are equal later napoleon and his pigs secretly revise some commandments to clear them of accusations of lawbreaking such as no animal shall drink alcohol having to excess appended to it and no animal shall sleep in a bed with with sheets added to it the changed commandments are as follows with the changes bolded  4 no animal shall sleep in a bed with sheets  5 no animal shall drink alcohol to excess  6 no animal shall kill any other animal without cause eventually these are replaced with the maxims all animals are equal but some animals are more equal than others and four legs good two legs better as the pigs become more human this is an ironic twist to the original purpose of the seven commandments which were supposed to keep order within animal farm by uniting the animals together against the humans and prevent animals from following the humans evil habits through the revision of the commandments orwell demonstrates how simply political dogma can be turned into malleable propaganda'"
            ]
          },
          "execution_count": 8,
          "metadata": {},
          "output_type": "execute_result"
        }
      ],
      "source": [
        "list_data[0]"
      ]
    },
    {
      "cell_type": "code",
      "execution_count": 9,
      "metadata": {
        "id": "YODpnLoxCYos"
      },
      "outputs": [],
      "source": [
        "corpus = set()\n",
        "for data in list_data:\n",
        "  corpus.update(data.split())"
      ]
    },
    {
      "cell_type": "code",
      "execution_count": 10,
      "metadata": {
        "id": "IPJ_s8rO_k1U"
      },
      "outputs": [],
      "source": [
        "corpus_freq = {word : 0 for word in corpus}\n",
        "for data in list_data:\n",
        "  for word in data.split():\n",
        "    corpus_freq[word] += 1"
      ]
    },
    {
      "cell_type": "code",
      "execution_count": 11,
      "metadata": {
        "id": "V2X2UCPfEb1B"
      },
      "outputs": [],
      "source": [
        "short_corpus = [word for word, freq in corpus_freq.items() if freq > freq_word]\n",
        "eliminate_corpus = [word for word, freq in corpus_freq.items() if freq <= freq_word]\n",
        "short_corpus = ['[PAD]', '[MASK]'] + short_corpus"
      ]
    },
    {
      "cell_type": "code",
      "execution_count": 12,
      "metadata": {
        "id": "Tfc7Z2wn17QP"
      },
      "outputs": [],
      "source": [
        "words = tf.constant(short_corpus)\n",
        "word_ids = tf.range(len(short_corpus), dtype=tf.int64)\n",
        "vocab_init = tf.lookup.KeyValueTensorInitializer(words, word_ids)\n",
        "num_oov_buckets = 1000\n",
        "table = tf.lookup.StaticVocabularyTable(vocab_init, num_oov_buckets)"
      ]
    },
    {
      "cell_type": "code",
      "execution_count": 13,
      "metadata": {
        "id": "k-e66Hziq_vQ"
      },
      "outputs": [],
      "source": [
        "corpus_len = len(short_corpus) + num_oov_buckets"
      ]
    },
    {
      "cell_type": "code",
      "execution_count": 14,
      "metadata": {
        "id": "SYBEPumDKB70"
      },
      "outputs": [],
      "source": [
        "train_data, valid_data = train_test_split(list_data, train_size = train_size, test_size = test_size+valid_size, random_state = 42)\n",
        "valid_data, test_data =  train_test_split(valid_data, train_size = valid_size/(valid_size+test_size), test_size=test_size/(valid_size+test_size), random_state = 42)"
      ]
    },
    {
      "cell_type": "code",
      "execution_count": 15,
      "metadata": {
        "colab": {
          "base_uri": "https://localhost:8080/",
          "height": 265
        },
        "id": "A4nqE2dWmDHz",
        "outputId": "f94deb1c-0ea1-4017-9248-ac6229b6c8fe"
      },
      "outputs": [
        {
          "data": {
            "image/png": "[encoded data removed]",
            "text/plain": [
              "<Figure size 432x288 with 1 Axes>"
            ]
          },
          "metadata": {
            "needs_background": "light"
          },
          "output_type": "display_data"
        }
      ],
      "source": [
        "list_len = np.array([len(data.split()) for data in list_data])\n",
        "plt.hist(np.array(list_len), bins = 30)\n",
        "plt.show()"
      ]
    },
    {
      "cell_type": "code",
      "execution_count": 16,
      "metadata": {
        "id": "cG4HtZn5AAAp"
      },
      "outputs": [],
      "source": [
        "def MaskingData(texts, mask_rate = mask_percent):\n",
        "  mask_texts = []\n",
        "  one_hot_masks = []\n",
        "  non_masks = []\n",
        "  for text in texts:\n",
        "    text = text.split()\n",
        "    random_mask_id = np.random.randint(0, len(text), size = int(len(text)*mask_rate))\n",
        "    one_hot_mask = np.zeros(shape = len(text))\n",
        "    one_hot_mask[random_mask_id] = 1\n",
        "    one_hot_masks.append(one_hot_mask)\n",
        "    text = np.array(text)\n",
        "    raw_text = np.copy(text)\n",
        "    text[random_mask_id] = '[MASK]'\n",
        "    mask_texts.append(text)\n",
        "    non_masks.append(raw_text)\n",
        "  return non_masks, mask_texts, one_hot_masks"
      ]
    },
    {
      "cell_type": "code",
      "execution_count": 17,
      "metadata": {
        "id": "uAffebtp3MeG"
      },
      "outputs": [],
      "source": [
        "mask_id = short_corpus.index('[MASK]')\n",
        "def encode_sentence(text):\n",
        "  return list(table.lookup(tf.constant(text.split())).numpy())\n",
        "def encode_sentences(texts):\n",
        "  output = []\n",
        "  for text in texts:\n",
        "    output.append(table.lookup(tf.constant(text)).numpy())\n",
        "  return output"
      ]
    },
    {
      "cell_type": "code",
      "execution_count": 18,
      "metadata": {
        "id": "7arR9cFfwGTg"
      },
      "outputs": [],
      "source": [
        "def PaddingData(encode_non_mask_texts, encode_mask_texts, mask_ids, max_len = max_len):\n",
        "  padding_ids = []\n",
        "  pad_masks = []\n",
        "  pad_mask_texts = []\n",
        "  pad_non_mask_texts = []\n",
        "  for mask_text, non_mask_text, mask_id in zip(encode_mask_texts, encode_non_mask_texts, mask_ids):\n",
        "    add_padding = max_len - len(mask_text)%max_len\n",
        "    size = add_padding + len(mask_text)\n",
        "    padding_id = np.ones(size)\n",
        "    padding_id[len(mask_text):] = 0\n",
        "    mask_text     = np.pad(mask_text,     (0, add_padding), 'constant', constant_values=(0, 0))\n",
        "    mask_id       = np.pad(mask_id,       (0, add_padding), 'constant', constant_values=(0, 0))\n",
        "    non_mask_text = np.pad(non_mask_text, (0, add_padding), 'constant', constant_values=(0, 0))\n",
        "\n",
        "    padding_id = padding_id.reshape(-1, max_len)\n",
        "    mask_id = mask_id.reshape(-1, max_len)\n",
        "    mask_text = mask_text.reshape(-1, max_len)\n",
        "    non_mask_text = non_mask_text.reshape(-1, max_len)\n",
        "\n",
        "    padding_ids.append(padding_id)\n",
        "    pad_masks.append(mask_id)\n",
        "    pad_mask_texts.append(mask_text)\n",
        "    pad_non_mask_texts.append(non_mask_text)\n",
        "  \n",
        "  padding_id = np.concatenate(padding_ids, axis = 0)\n",
        "  pad_mask = np.concatenate(pad_masks, axis = 0)\n",
        "  pad_mask_text = np.concatenate(pad_mask_texts, axis = 0)\n",
        "  pad_non_mask_text = np.concatenate(pad_non_mask_texts, axis = 0)\n",
        "\n",
        "  return pad_non_mask_text, pad_mask_text, padding_id, pad_mask"
      ]
    },
    {
      "cell_type": "code",
      "execution_count": 19,
      "metadata": {
        "id": "kR2eib8JDiWs"
      },
      "outputs": [],
      "source": [
        "def Padding_inference(text):\n",
        "  text_len = len(text)\n",
        "  add_padding = max_len - len(text)%max_len\n",
        "  size = add_padding + len(text)\n",
        "  text = np.pad(text, (0, add_padding), 'constant', constant_values=(0, 0))\n",
        "  pad_id = np.zeros(shape = (1, max_len), dtype = np.float32)\n",
        "  pad_id[:, :text_len] = 1\n",
        "  return text.reshape(1, max_len), pad_id"
      ]
    },
    {
      "cell_type": "code",
      "execution_count": 20,
      "metadata": {
        "id": "rXzNcndx4EIN"
      },
      "outputs": [],
      "source": [
        "def decode_sentence(tensor):\n",
        "  output = []\n",
        "  for value in tensor:\n",
        "    if value < len(short_corpus):\n",
        "      output.append(short_corpus[value])\n",
        "    else:\n",
        "      output.append(eliminate_corpus[value])\n",
        "  return ' '.join(output)"
      ]
    },
    {
      "cell_type": "code",
      "execution_count": 70,
      "metadata": {
        "id": "M-6lztjm8zAu"
      },
      "outputs": [],
      "source": [
        "def preprocess(texts, batch_size = batch_size, dtype = tf.float32):\n",
        "  non_mask_data, mask_data, mask_id = MaskingData(texts)\n",
        "  input = encode_sentences(mask_data)\n",
        "  label = encode_sentences(non_mask_data)\n",
        "  non_mask_text, mask_text, padding_id, pad_mask = PaddingData(label, input, mask_id)\n",
        "\n",
        "  non_mask_text = tf.convert_to_tensor(non_mask_text, dtype = dtype)\n",
        "  mask_text = tf.convert_to_tensor(mask_text, dtype = dtype)\n",
        "  padding_id = tf.convert_to_tensor(padding_id, dtype = dtype)\n",
        "  pad_mask = tf.convert_to_tensor(pad_mask, dtype = dtype)\n",
        "\n",
        "  non_mask_text = tf.data.Dataset.from_tensor_slices(non_mask_text)\n",
        "  mask_text = tf.data.Dataset.from_tensor_slices(mask_text)\n",
        "  padding_id = tf.data.Dataset.from_tensor_slices(padding_id)\n",
        "  pad_mask = tf.data.Dataset.from_tensor_slices(pad_mask)\n",
        "\n",
        "  dataset = tf.data.Dataset.zip((non_mask_text, mask_text, padding_id, pad_mask)).shuffle(1000).batch(batch_size, drop_remainder=True)\n",
        "  \n",
        "  return dataset\n",
        "\n",
        "def Preprocess(texts, batch_size = batch_size, dtype = tf.float32):\n",
        "  non_mask_data, mask_data, mask_id = MaskingData(texts)\n",
        "  input = encode_sentences(mask_data)\n",
        "  label = encode_sentences(non_mask_data)\n",
        "  non_mask_text, mask_text, padding_id, pad_mask = PaddingData(label, input, mask_id)\n",
        "\n",
        "  non_mask_text = tf.convert_to_tensor(non_mask_text, dtype = dtype)\n",
        "  mask_text = tf.convert_to_tensor(mask_text, dtype = dtype)\n",
        "  pad_mask = tf.convert_to_tensor(pad_mask, dtype = dtype)\n",
        "\n",
        "  return mask_text, non_mask_text, pad_mask"
      ]
    },
    {
      "cell_type": "code",
      "execution_count": 71,
      "metadata": {
        "id": "aaMSr1uwHWGd"
      },
      "outputs": [],
      "source": [
        "Train_dataset = Preprocess(train_data)\n",
        "Valid_dataset = Preprocess(valid_data)\n",
        "Test_dataset = Preprocess(test_data)"
      ]
    },
    {
      "cell_type": "code",
      "execution_count": 22,
      "metadata": {
        "id": "7iOBgSouMxN2"
      },
      "outputs": [],
      "source": [
        "train_dataset = preprocess(train_data)\n",
        "valid_dataset = preprocess(valid_data)\n",
        "test_dataset = preprocess(test_data)"
      ]
    },
    {
      "cell_type": "markdown",
      "metadata": {
        "id": "YnblgakZNrIS"
      },
      "source": [
        "# BUILD MODEL"
      ]
    },
    {
      "cell_type": "code",
      "execution_count": 33,
      "metadata": {
        "id": "fR2sEVEZkEbq"
      },
      "outputs": [],
      "source": [
        "class PositionalEncoding(keras.layers.Layer):\n",
        "    def __init__(self, max_steps, max_dims, dtype=tf.float32, **kwargs):\n",
        "        super().__init__(dtype=dtype, **kwargs)\n",
        "        if max_dims % 2 == 1: max_dims += 1 # max_dims must be even\n",
        "        p, i = np.meshgrid(np.arange(max_steps), np.arange(max_dims // 2))\n",
        "        pos_emb = np.empty((1, max_steps, max_dims))\n",
        "        pos_emb[0, :, ::2] = np.sin(p / 10000**(2 * i / max_dims)).T\n",
        "        pos_emb[0, :, 1::2] = np.cos(p / 10000**(2 * i / max_dims)).T\n",
        "        self.positional_embedding = tf.constant(pos_emb.astype(self.dtype))\n",
        "    def call(self, inputs):\n",
        "        shape = tf.shape(inputs)\n",
        "        return inputs + self.positional_embedding[:, :shape[-2], :shape[-1]]"
      ]
    },
    {
      "cell_type": "code",
      "execution_count": 34,
      "metadata": {
        "id": "BE0dUIaaNe-i"
      },
      "outputs": [],
      "source": [
        "class MultiheadAttention(keras.layers.Layer):\n",
        "  def __init__(self, n_heads = 8, dropout_rate = 0.1, **kwargs):\n",
        "    super(MultiheadAttention, self).__init__()\n",
        "    self.n_heads = n_heads\n",
        "    self.dropout_rate = dropout_rate\n",
        "  def build(self, batch_input_shape):\n",
        "    self.batch, self.q_time_steps, self.dim = batch_input_shape\n",
        "    self.q_linear = keras.layers.Conv1D(self.dim * self.n_heads, kernel_size = 1, strides = 1, padding = 'valid', use_bias = False)\n",
        "    self.k_linear = keras.layers.Conv1D(self.dim * self.n_heads, kernel_size = 1, strides = 1, padding = 'valid', use_bias = False)\n",
        "    self.v_linear = keras.layers.Conv1D(self.dim * self.n_heads, kernel_size = 1, strides = 1, padding = 'valid', use_bias = False)\n",
        "    self.linear_out = keras.layers.Conv1D(self.dim, kernel_size = 1, strides = 1, padding = 'valid', use_bias = False)\n",
        "    self.drop_out = keras.layers.Dropout(self.dropout_rate)\n",
        "    super().build(batch_input_shape)\n",
        "  def mask_attention(self, q, k, v, mask_q = None, mask_k = None):\n",
        "    if mask_q is None:\n",
        "      mask_q = tf.ones(shape = (q.shape[0], q.shape[1], q.shape[2]))\n",
        "    else:\n",
        "      dim = q.shape[2]\n",
        "      time_series = q.shape[1]\n",
        "      mask_q = tf.stack([mask_q]*self.n_heads*dim, axis = 0)\n",
        "      mask_q = tf.reshape(mask_q, shape = (dim, self.n_heads, -1, time_series)) # (dim, n_heads, batch, time_series)\n",
        "      mask_q = tf.transpose(mask_q, perm = [2, 1, 3, 0]) # (batch, n_heads, time_series, dimension)\n",
        "      mask_q = tf.reshape(mask_q, shape = (-1, time_series, dim)) # (batch * n_head, time_series, dimension)\n",
        "    if mask_k is None:\n",
        "      mask_k = tf.ones(shape = (k.shape[0], k.shape[1], k.shape[2]))\n",
        "    else:\n",
        "      dim = k.shape[2]\n",
        "      time_series = k.shape[1]\n",
        "      mask_k = tf.stack([mask_k]*self.n_heads*dim, axis = 0)\n",
        "      mask_k = tf.reshape(mask_k, shape = (dim, self.n_heads, -1, time_series)) # (dim, n_heads, batch, time_series)\n",
        "      mask_k = tf.transpose(mask_k, perm = [2, 1, 3, 0]) # (batch, n_heads, time_series, dimension)\n",
        "      mask_k = tf.reshape(mask_k, shape = (-1, time_series, dim)) # (batch*n_heads, time_series, dimension)\n",
        "    q = tf.multiply(q, mask_q)\n",
        "    k = tf.multiply(k, mask_k)\n",
        "    v = tf.multiply(v, mask_k)\n",
        "    normalize = tf.math.sqrt(tf.cast(self.dim, dtype=tf.float32))\n",
        "    attention = tf.linalg.matmul(q, tf.transpose(k, perm = [0, 2, 1])) / normalize\n",
        "    norm_attention = tf.nn.softmax(attention, axis = -1)\n",
        "    output = tf.linalg.matmul(norm_attention, v)\n",
        "    return output, norm_attention\n",
        "  def linear_attention(self, input, linear):\n",
        "    timestep = input.shape[1]\n",
        "    output = linear(input)\n",
        "    output = tf.reshape(output, shape = [-1, timestep, self.n_heads, self.dim]) # (batch, timestep, n_heads, dimension)\n",
        "    output = tf.transpose(output, perm = [0, 2, 1, 3])\n",
        "    output = tf.reshape(output, shape = [-1 , timestep, self.dim]) # (batch*n_heads, timestep, dimension)\n",
        "    return output\n",
        "  def call(self, Q, V, mask_q = None, mask_k = None):\n",
        "    K = V\n",
        "    Q = self.linear_attention(Q, self.q_linear)\n",
        "    K = self.linear_attention(K, self.k_linear)\n",
        "    V = self.linear_attention(V, self.v_linear)\n",
        "    output, attention_weight = self.mask_attention(Q, K, V, mask_q = mask_q, mask_k = mask_k)\n",
        "    output = tf.reshape(output, shape = [-1, self.n_heads, self.q_time_steps, self.dim]) # (batch, n_heads, q_time_steps, dimension)\n",
        "    output = tf.transpose(output, perm = [0, 2, 1, 3])\n",
        "    output = tf.reshape(output, shape = [-1, self.q_time_steps, self.n_heads*self.dim]) # (batch, n_heads, q_time_steps, dimension)\n",
        "    output = self.linear_out(output)\n",
        "    output = self.drop_out(output)\n",
        "    return output, attention_weight"
      ]
    },
    {
      "cell_type": "code",
      "execution_count": 67,
      "metadata": {
        "id": "V5G55S3wjYkq"
      },
      "outputs": [],
      "source": [
        "class FFN(keras.layers.Layer):\n",
        "  def __init__(self, d_dim = d_dim, drop_rate = drop_rate):\n",
        "    super().__init__()\n",
        "    self.d_dim = d_dim\n",
        "    self.drop = keras.layers.Dropout(drop_rate)\n",
        "    self.normalize = keras.layers.LayerNormalization(epsilon=1e-6)\n",
        "  def build(self, batch_input_shape):\n",
        "    self.dense = keras.layers.Dense(self.d_dim, activation = 'relu')\n",
        "    self.d_model = keras.layers.Dense(batch_input_shape[-1])\n",
        "  def call(self, input):\n",
        "    emb = self.dense(input)\n",
        "    bottle_neck = self.d_model(emb)\n",
        "    add = bottle_neck + input\n",
        "    normalize = self.normalize(add)\n",
        "    output = self.drop(normalize)\n",
        "    return output"
      ]
    },
    {
      "cell_type": "code",
      "execution_count": 68,
      "metadata": {
        "id": "PgSs1GYqgNQy"
      },
      "outputs": [],
      "source": [
        "class transformer_block(keras.layers.Layer):\n",
        "  def __init__(self, n_heads = n_heads, drop_rate = drop_rate, d_dim = d_dim):\n",
        "    super(transformer_block, self).__init__()\n",
        "    self.n_heads = n_heads\n",
        "    self.drop_rate = drop_rate\n",
        "    #self.MulAttention = MultiheadAttention(n_heads, drop_rate)\n",
        "    self.MulAttention = keras.layers.MultiHeadAttention(num_heads = n_heads, key_dim = d_dim)\n",
        "    self.ffn = FFN(d_dim, drop_rate)\n",
        "    self.normalize = keras.layers.LayerNormalization(epsilon=1e-6)\n",
        "  def call(self, inputs, mask_q = None, mask_k = None):\n",
        "    #x, attention_weight = self.MulAttention(inputs, mask_q, mask_k)\n",
        "    x = self.MulAttention(inputs, inputs)\n",
        "    x = x + inputs\n",
        "    normalize = self.normalize(x)\n",
        "    output = self.ffn(normalize)\n",
        "    return output"
      ]
    },
    {
      "cell_type": "code",
      "execution_count": 37,
      "metadata": {
        "id": "EcqGH39KRjMi"
      },
      "outputs": [],
      "source": [
        "# dump_inp = tf.random.uniform(shape = (batch_size, max_len, max_dim))\n",
        "# dump_2d_inp = tf.random.uniform(shape = (batch_size, max_len))"
      ]
    },
    {
      "cell_type": "code",
      "execution_count": 69,
      "metadata": {
        "id": "qJ_j1BZ172eD"
      },
      "outputs": [],
      "source": [
        "class MaskLanguageModel(keras.Model):\n",
        "  def __init__(self, d_dim = d_dim, vocab_size = corpus_len ,max_steps = max_len, max_dims = max_dim, n_heads = n_heads, drop_rate = drop_rate, n_blocks = n_blocks):\n",
        "    super().__init__()\n",
        "    self.position = PositionalEncoding(max_steps = max_steps, max_dims = max_dims)\n",
        "    self.transformers = [transformer_block(n_heads = n_heads, drop_rate = drop_rate, d_dim = d_dim) for _ in range(n_blocks)]\n",
        "    self.dense = keras.layers.Dense(vocab_size)\n",
        "    self.embed = keras.layers.Embedding(vocab_size, max_dims, input_length = max_steps)\n",
        "  def call(self, inputs, mask_q = None, mask_k = None, training = False):\n",
        "    embed = self.embed(inputs)\n",
        "    pos_emb = self.position(embed)\n",
        "    x = self.transformers[0](pos_emb, mask_q, mask_k)\n",
        "    for block in self.transformers[1:]:\n",
        "      x = block(x)\n",
        "    output = self.dense(x)\n",
        "    output = tf.nn.softmax(output, axis = -1)\n",
        "    return output"
      ]
    },
    {
      "cell_type": "code",
      "execution_count": 39,
      "metadata": {
        "id": "7WyCsmzMu6TD"
      },
      "outputs": [],
      "source": [
        "# test_model = MaskLanguageModel()\n",
        "# test_model(dump_2d_inp).shape\n",
        "# test_model.summary()"
      ]
    },
    {
      "cell_type": "markdown",
      "metadata": {
        "id": "bI2UG-NapnRG"
      },
      "source": [
        "# CUSTOM TRAINING LOOP (something got trouble with custom training loop)"
      ]
    },
    {
      "cell_type": "code",
      "execution_count": 40,
      "metadata": {
        "id": "cq4fpsbutslW"
      },
      "outputs": [],
      "source": [
        "model = MaskLanguageModel()\n",
        "loss_fn = keras.losses.SparseCategoricalCrossentropy()\n",
        "optimizer = keras.optimizers.experimental.AdamW()\n",
        "metrics_train = keras.metrics.SparseCategoricalAccuracy()\n",
        "metrics_test  = keras.metrics.SparseCategoricalAccuracy()\n",
        "#model.build((batch_size, max_len))\n",
        "@tf.function\n",
        "def train_step(input, label):\n",
        "  with tf.GradientTape() as tape:\n",
        "    #output = model([input], mask_q = padding_id, mask_k = padding_id, training = True)\n",
        "    output = model(input)\n",
        "    loss = loss_fn(label, output, sample_weight = pad_mask)\n",
        "  grads = tape.gradient(loss, model.trainable_weights)\n",
        "  optimizer.apply_gradients(zip(grads, model.trainable_weights))\n",
        "  metrics_train.update_state(label, output, sample_weight = pad_mask)\n",
        "  return loss\n",
        "\n",
        "@tf.function\n",
        "def test_step(input, label):\n",
        "  #output = model([input], mask_q = padding_id, mask_k = padding_id, training = False)\n",
        "  output = model(input)\n",
        "  metrics_test.update_state(label, output, sample_weight = pad_mask)"
      ]
    },
    {
      "cell_type": "code",
      "execution_count": 41,
      "metadata": {
        "colab": {
          "base_uri": "https://localhost:8080/"
        },
        "id": "vyBVyEA-JkmQ",
        "outputId": "378b67c3-2652-4c6d-d74d-000afed15455"
      },
      "outputs": [
        {
          "name": "stdout",
          "output_type": "stream",
          "text": [
            "epoch 1/4:  "
          ]
        },
        {
          "name": "stderr",
          "output_type": "stream",
          "text": [
            "100%|██████████| 920/920 [03:44<00:00,  4.10it/s]\n"
          ]
        },
        {
          "name": "stdout",
          "output_type": "stream",
          "text": [
            "The training loss is 0.71457839012146\n",
            "The training accuracy is 0.2183450609445572\n",
            "The valid accuracy is 0.22104774415493011\n",
            "epoch 2/4:  "
          ]
        },
        {
          "name": "stderr",
          "output_type": "stream",
          "text": [
            "100%|██████████| 920/920 [02:56<00:00,  5.21it/s]\n"
          ]
        },
        {
          "name": "stdout",
          "output_type": "stream",
          "text": [
            "The training loss is 0.6455916166305542\n",
            "The training accuracy is 0.22056061029434204\n",
            "The valid accuracy is 0.22254572808742523\n",
            "epoch 3/4:  "
          ]
        },
        {
          "name": "stderr",
          "output_type": "stream",
          "text": [
            "100%|██████████| 920/920 [02:49<00:00,  5.44it/s]\n"
          ]
        },
        {
          "name": "stdout",
          "output_type": "stream",
          "text": [
            "The training loss is 0.658482551574707\n",
            "The training accuracy is 0.21913591027259827\n",
            "The valid accuracy is 0.22322088479995728\n",
            "epoch 4/4:  "
          ]
        },
        {
          "name": "stderr",
          "output_type": "stream",
          "text": [
            "100%|██████████| 920/920 [02:47<00:00,  5.48it/s]\n"
          ]
        },
        {
          "name": "stdout",
          "output_type": "stream",
          "text": [
            "The training loss is 0.6833505630493164\n",
            "The training accuracy is 0.21943439543247223\n",
            "The valid accuracy is 0.22016161680221558\n"
          ]
        }
      ],
      "source": [
        "list_loss = []\n",
        "train_acc = []\n",
        "valid_acc = []\n",
        "for i in range(num_epochs):\n",
        "  print(f'epoch {i+1}/{num_epochs}: ', end = ' ')\n",
        "  for label, input, padding_id, pad_mask in tqdm(train_dataset):\n",
        "    loss = train_step(input, label)\n",
        "    list_loss.append(loss.numpy())\n",
        "  print(f'The training loss is {loss}')\n",
        "  print(f'The training accuracy is {metrics_train.result()}')\n",
        "  train_acc.append(metrics_train.result())\n",
        "  metrics_train.reset_states()\n",
        "\n",
        "  for label, input, padding_id, pad_mask in valid_dataset:\n",
        "    test_step(input, label)\n",
        "  print(f'The valid accuracy is {metrics_test.result()}')\n",
        "  valid_acc.append(metrics_test.result())\n",
        "  metrics_test.reset_states()"
      ]
    },
    {
      "cell_type": "code",
      "execution_count": 42,
      "metadata": {
        "colab": {
          "base_uri": "https://localhost:8080/",
          "height": 265
        },
        "id": "hx2y9eExkWTc",
        "outputId": "a843943c-4870-4e53-d3b8-99955b6adec7"
      },
      "outputs": [
        {
          "data": {
            "image/png": "[encoded data removed]",
            "text/plain": [
              "<Figure size 432x288 with 1 Axes>"
            ]
          },
          "metadata": {
            "needs_background": "light"
          },
          "output_type": "display_data"
        }
      ],
      "source": [
        "plt.plot(train_acc, label = 'train_accuracy')\n",
        "plt.plot(valid_acc, label = 'valid_accuracy')\n",
        "plt.legend()\n",
        "plt.show()"
      ]
    },
    {
      "cell_type": "markdown",
      "metadata": {
        "id": "tMSuXZhFDtVJ"
      },
      "source": [
        "# FIT TRAINING LOOP"
      ]
    },
    {
      "cell_type": "code",
      "execution_count": 74,
      "metadata": {
        "colab": {
          "base_uri": "https://localhost:8080/"
        },
        "id": "VjFHDR9eEimR",
        "outputId": "213efb16-4f61-4737-81fc-90109b8c4d0e"
      },
      "outputs": [
        {
          "name": "stdout",
          "output_type": "stream",
          "text": [
            "Epoch 1/3\n",
            "921/921 [==============================] - 171s 178ms/step - loss: 0.5070\n",
            "Epoch 2/3\n",
            "921/921 [==============================] - 152s 165ms/step - loss: 0.3677\n",
            "Epoch 3/3\n",
            "921/921 [==============================] - 155s 168ms/step - loss: 0.3387\n"
          ]
        },
        {
          "data": {
            "text/plain": [
              "<keras.callbacks.History at 0x7fb5642ea250>"
            ]
          },
          "execution_count": 74,
          "metadata": {},
          "output_type": "execute_result"
        }
      ],
      "source": [
        "loss_fn = keras.losses.SparseCategoricalCrossentropy()\n",
        "optimizer = keras.optimizers.experimental.AdamW()\n",
        "mask_text, non_mask_text, pad_id = Train_dataset\n",
        "model = MaskLanguageModel()\n",
        "model.compile(loss = loss_fn, \n",
        "              optimizer = optimizer, \n",
        "              loss_weights = pad_id\n",
        "              )\n",
        "history = model.fit(mask_text, non_mask_text, \n",
        "                    epochs = 5, \n",
        "                    batch_size = batch_size\n",
        "                    )"
      ]
    },
    {
      "cell_type": "markdown",
      "metadata": {
        "id": "CtrkcW5FJhB-"
      },
      "source": [
        "# Testing"
      ]
    },
    {
      "cell_type": "code",
      "execution_count": 97,
      "metadata": {
        "id": "8T_T2rCOEbsb"
      },
      "outputs": [],
      "source": [
        "def inference(text):\n",
        "  text = text.lower()\n",
        "  mask_id = text.split().index('[mask]')\n",
        "  encode = encode_sentence(text)\n",
        "  padding, pad_id = Padding_inference(encode)\n",
        "  output = model(padding.reshape(1, max_len)).numpy()\n",
        "  result = np.argmax(output, axis = -1)\n",
        "  decode = decode_sentence(result[0][:len(text.split())])\n",
        "  return decode.split()[mask_id]"
      ]
    },
    {
      "cell_type": "code",
      "execution_count": 99,
      "metadata": {
        "colab": {
          "base_uri": "https://localhost:8080/",
          "height": 36
        },
        "id": "tJw43Ej7K6SO",
        "outputId": "52abe4f2-9eea-4739-d48e-30921bb1a1ab"
      },
      "outputs": [
        {
          "data": {
            "application/vnd.google.colaboratory.intrinsic+json": {
              "type": "string"
            },
            "text/plain": [
              "'furnivals'"
            ]
          },
          "execution_count": 99,
          "metadata": {},
          "output_type": "execute_result"
        }
      ],
      "source": [
        "inference('How are [mask] today')"
      ]
    },
    {
      "cell_type": "code",
      "execution_count": null,
      "metadata": {
        "id": "vSFIkC4SMvSj"
      },
      "outputs": [],
      "source": []
    }
  ],
  "metadata": {
    "accelerator": "GPU",
    "colab": {
      "authorship_tag": "ABX9TyM0WBDdYCwy8HnUlpiFtACP",
      "collapsed_sections": [
        "-k4HkeZpNwbS",
        "bI2UG-NapnRG"
      ],
      "include_colab_link": true,
      "provenance": []
    },
    "gpuClass": "standard",
    "kernelspec": {
      "display_name": "Python 3",
      "name": "python3"
    },
    "language_info": {
      "name": "python"
    }
  },
  "nbformat": 4,
  "nbformat_minor": 0
}
